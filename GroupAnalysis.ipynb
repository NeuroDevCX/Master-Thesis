{
 "cells": [
  {
   "cell_type": "code",
   "execution_count": null,
   "metadata": {},
   "outputs": [],
   "source": [
    "import pandas as pd\n",
    "import numpy as np\n",
    "import os.path\n",
    "import matplotlib.pyplot as plt\n",
    "import csv\n",
    "import pickle\n",
    "\n",
    "import sys\n",
    "sys.path.append('.../')\n",
    "\n",
    "import dynTimeWarp\n",
    "\n",
    "from mpl_toolkits.mplot3d import Axes3D\n",
    "#import dynTimeWarp\n",
    "from scipy import interpolate\n",
    "from scipy.signal import savgol_filter\n",
    "from scipy.signal import argrelextrema\n",
    "#import seaborn as sns\n",
    "#!pip install -U kaleido\n",
    "import plotly.graph_objects as go\n",
    "\n",
    "from scipy.stats import pearsonr \n",
    "\n",
    "#!{sys.executable} -m pip install seaborn\n",
    "\n",
    "import seaborn as sns\n",
    "\n"
   ]
  },
  {
   "cell_type": "code",
   "execution_count": null,
   "metadata": {},
   "outputs": [],
   "source": [
    "plt.style.use(['science', 'high-vis'])"
   ]
  },
  {
   "cell_type": "code",
   "execution_count": null,
   "metadata": {},
   "outputs": [],
   "source": [
    "\"\"\" Parameter = {\"xtick.labelsize\": 16, \"ytick.labelsize\": 16, \"legend.fontsize\": 16, \"axes.titlesize\": 25, \"axes.labelsize\": 25,\n",
    "            \"lines.linewidth\": 2, \"scatter.marker\": \"o\", \"figure.figsize\": [12, 9]}\n",
    "\n",
    "plt.rcParams.update(Parameter) \"\"\"\n"
   ]
  },
  {
   "cell_type": "code",
   "execution_count": null,
   "metadata": {},
   "outputs": [],
   "source": [
    "Parameter = {\"xtick.labelsize\": 22, \"ytick.labelsize\": 22, \"legend.fontsize\": 18, \"axes.titlesize\": 32, \"axes.labelsize\": 32,\n",
    "            \"lines.linewidth\": 2, \"scatter.marker\": \"o\", \"figure.figsize\": [12, 9]}\n",
    "\n",
    "plt.rcParams.update(Parameter)"
   ]
  },
  {
   "cell_type": "code",
   "execution_count": null,
   "metadata": {},
   "outputs": [],
   "source": [
    "def groupMeanDuration(condMeanP1, condMeanP2, condMeanP3, condMeanP4, condMeanP5, condMeanP6, condMeanP7, condMeanP8, condMeanP9, condMeanP10):\n",
    "    MeanDurations = np.column_stack((condMeanP1, condMeanP2, condMeanP3, condMeanP4, condMeanP5, condMeanP6, condMeanP7, condMeanP8, condMeanP9, condMeanP10))\n",
    "\n",
    "    GroupMeanDurations = []\n",
    "    for i in range(len(MeanDurations)):\n",
    "        GroupMeanDurations.append(np.nanmean(MeanDurations[i,:]))\n",
    "\n",
    "    return GroupMeanDurations"
   ]
  },
  {
   "cell_type": "code",
   "execution_count": null,
   "metadata": {},
   "outputs": [],
   "source": [
    "def excludeValues(input, cond):\n",
    "    input = list(input)\n",
    "    input[cond] = float('nan')\n",
    "\n",
    "    return input"
   ]
  },
  {
   "cell_type": "code",
   "execution_count": null,
   "metadata": {},
   "outputs": [],
   "source": [
    "def flattenList(nestedList):\n",
    "    flatList = [item for sublist in nestedList for item in sublist]\n",
    "    return flatList"
   ]
  },
  {
   "cell_type": "code",
   "execution_count": null,
   "metadata": {},
   "outputs": [],
   "source": [
    "def roundList(myList):\n",
    "    my_list = [ round(elem, 3) for elem in myList ]\n",
    "\n",
    "    return my_list"
   ]
  },
  {
   "cell_type": "code",
   "execution_count": null,
   "metadata": {},
   "outputs": [],
   "source": [
    "P1MeanDur = pd.read_csv('.csv', header=None)\n",
    "P2MeanDur = pd.read_csv('.csv', header=None)\n",
    "P3MeanDur = pd.read_csv('.csv', header=None)\n",
    "P4MeanDur = pd.read_csv('.csv', header=None)\n",
    "P5MeanDur = pd.read_csv('.csv', header=None)\n",
    "P6MeanDur = pd.read_csv('.csv', header=None)\n",
    "P7MeanDur = pd.read_csv('.csv', header=None)\n",
    "P8MeanDur = pd.read_csv('.csv', header=None)\n",
    "P9MeanDur = pd.read_csv('.csv', header=None)\n",
    "P10MeanDur = pd.read_csv('.csv', header=None)\n"
   ]
  },
  {
   "cell_type": "code",
   "execution_count": null,
   "metadata": {},
   "outputs": [],
   "source": [
    "#std movedurations:\n",
    "P1stdDur = pd.read_csv('.csv', header=None)\n",
    "P2stdDur = pd.read_csv('.csv', header=None)\n",
    "P3stdDur = pd.read_csv('.csv', header=None)\n",
    "P4stdDur = pd.read_csv('.csv', header=None)\n",
    "P5stdDur = pd.read_csv('.csv', header=None)\n",
    "P6stdDur = pd.read_csv('.csv', header=None)\n",
    "P7stdDur = pd.read_csv('.csv', header=None)\n",
    "P8stdDur = pd.read_csv('.csv', header=None)\n",
    "P9stdDur = pd.read_csv('.csv', header=None)\n",
    "P10stdDur = pd.read_csv('.csv', header=None)\n"
   ]
  },
  {
   "cell_type": "code",
   "execution_count": null,
   "metadata": {},
   "outputs": [],
   "source": [
    "P10MeanDurLeft = (P10MeanDur.loc[0,1], P10MeanDur.loc[1,1], P10MeanDur.loc[3,1], P10MeanDur.loc[5,1], P10MeanDur.loc[7,1], P10MeanDur.loc[9,1], P10MeanDur.loc[11,1])\n",
    "P9MeanDurLeft = (P9MeanDur.loc[0,1], P9MeanDur.loc[1,1], P9MeanDur.loc[3,1], P9MeanDur.loc[5,1], P9MeanDur.loc[7,1], P9MeanDur.loc[9,1], P9MeanDur.loc[11,1])\n",
    "P8MeanDurLeft = (P8MeanDur.loc[0,1], P8MeanDur.loc[1,1], P8MeanDur.loc[3,1], P8MeanDur.loc[5,1], P8MeanDur.loc[7,1], P8MeanDur.loc[9,1], P8MeanDur.loc[11,1])\n",
    "P7MeanDurLeft = (P7MeanDur.loc[0,1], P7MeanDur.loc[1,1], P7MeanDur.loc[3,1], P7MeanDur.loc[5,1], P7MeanDur.loc[7,1], P7MeanDur.loc[9,1], P7MeanDur.loc[11,1])\n",
    "P6MeanDurLeft = (P6MeanDur.loc[0,1], P6MeanDur.loc[1,1], P6MeanDur.loc[3,1], P6MeanDur.loc[5,1], P6MeanDur.loc[7,1], P6MeanDur.loc[9,1], P6MeanDur.loc[11,1])\n",
    "P5MeanDurLeft = (P5MeanDur.loc[0,1], P5MeanDur.loc[1,1], P5MeanDur.loc[3,1], P5MeanDur.loc[5,1], P5MeanDur.loc[7,1], P5MeanDur.loc[9,1], P5MeanDur.loc[11,1])\n",
    "P4MeanDurLeft = (P4MeanDur.loc[0,1], P4MeanDur.loc[1,1], P4MeanDur.loc[3,1], P4MeanDur.loc[5,1], P4MeanDur.loc[7,1], P4MeanDur.loc[9,1], P4MeanDur.loc[11,1])\n",
    "P3MeanDurLeft = (P3MeanDur.loc[0,1], P3MeanDur.loc[1,1], P3MeanDur.loc[3,1], P3MeanDur.loc[5,1], P3MeanDur.loc[7,1], P3MeanDur.loc[9,1], P3MeanDur.loc[11,1])\n",
    "P2MeanDurLeft = (P2MeanDur.loc[0,1], P2MeanDur.loc[1,1], P2MeanDur.loc[3,1], P2MeanDur.loc[5,1], P2MeanDur.loc[7,1], P2MeanDur.loc[9,1], P2MeanDur.loc[11,1])\n",
    "P1MeanDurLeft = (P1MeanDur.loc[0,1], P1MeanDur.loc[1,1], P1MeanDur.loc[3,1], P1MeanDur.loc[5,1], P1MeanDur.loc[7,1], P1MeanDur.loc[9,1], P1MeanDur.loc[11,1])\n"
   ]
  },
  {
   "cell_type": "code",
   "execution_count": null,
   "metadata": {},
   "outputs": [],
   "source": [
    "P10stdDurLeft = (P10stdDur.loc[0,1], P10stdDur.loc[1,1], P10stdDur.loc[3,1], P10stdDur.loc[5,1], P10stdDur.loc[7,1], P10stdDur.loc[9,1], P10stdDur.loc[11,1])\n",
    "P9stdDurLeft = (P9stdDur.loc[0,1], P9stdDur.loc[1,1], P9stdDur.loc[3,1], P9stdDur.loc[5,1], P9stdDur.loc[7,1], P9stdDur.loc[9,1], P9stdDur.loc[11,1])\n",
    "P8stdDurLeft = (P8stdDur.loc[0,1], P8stdDur.loc[1,1], P8stdDur.loc[3,1], P8stdDur.loc[5,1], P8stdDur.loc[7,1], P8stdDur.loc[9,1], P8stdDur.loc[11,1])\n",
    "P7stdDurLeft = (P7stdDur.loc[0,1], P7stdDur.loc[1,1], P7stdDur.loc[3,1], P7stdDur.loc[5,1], P7stdDur.loc[7,1], P7stdDur.loc[9,1], P7stdDur.loc[11,1])\n",
    "P6stdDurLeft = (P6stdDur.loc[0,1], P6stdDur.loc[1,1], P6stdDur.loc[3,1], P6stdDur.loc[5,1], P6stdDur.loc[7,1], P6stdDur.loc[9,1], P6stdDur.loc[11,1])\n",
    "P5stdDurLeft = (P5stdDur.loc[0,1], P5stdDur.loc[1,1], P5stdDur.loc[3,1], P5stdDur.loc[5,1], P5stdDur.loc[7,1], P5stdDur.loc[9,1], P5stdDur.loc[11,1])\n",
    "P4stdDurLeft = (P4stdDur.loc[0,1], P4stdDur.loc[1,1], P4stdDur.loc[3,1], P4stdDur.loc[5,1], P4stdDur.loc[7,1], P4stdDur.loc[9,1], P4stdDur.loc[11,1])\n",
    "P3stdDurLeft = (P3stdDur.loc[0,1], P3stdDur.loc[1,1], P3stdDur.loc[3,1], P3stdDur.loc[5,1], P3stdDur.loc[7,1], P3stdDur.loc[9,1], P3stdDur.loc[11,1])\n",
    "P2stdDurLeft = (P2stdDur.loc[0,1], P2stdDur.loc[1,1], P2stdDur.loc[3,1], P2stdDur.loc[5,1], P2stdDur.loc[7,1], P2stdDur.loc[9,1], P2stdDur.loc[11,1])\n",
    "P1stdDurLeft = (P1stdDur.loc[0,1], P1stdDur.loc[1,1], P1stdDur.loc[3,1], P1stdDur.loc[5,1], P1stdDur.loc[7,1], P1stdDur.loc[9,1], P1stdDur.loc[11,1])"
   ]
  },
  {
   "cell_type": "code",
   "execution_count": null,
   "metadata": {},
   "outputs": [],
   "source": [
    "P10MeanDurRight = (P10MeanDur.loc[0,1], P10MeanDur.loc[2,1], P10MeanDur.loc[4,1], P10MeanDur.loc[6,1], P10MeanDur.loc[8,1], P10MeanDur.loc[10,1], P10MeanDur.loc[12,1])\n",
    "P9MeanDurRight = (P9MeanDur.loc[0,1], P9MeanDur.loc[2,1], P9MeanDur.loc[4,1], P9MeanDur.loc[6,1], P9MeanDur.loc[8,1], P9MeanDur.loc[10,1], P9MeanDur.loc[12,1])\n",
    "P8MeanDurRight = (P8MeanDur.loc[0,1], P8MeanDur.loc[2,1], P8MeanDur.loc[4,1], P8MeanDur.loc[6,1], P8MeanDur.loc[8,1], P8MeanDur.loc[10,1], P8MeanDur.loc[12,1])\n",
    "P7MeanDurRight = (P7MeanDur.loc[0,1], P7MeanDur.loc[2,1], P7MeanDur.loc[4,1], P7MeanDur.loc[6,1], P7MeanDur.loc[8,1], P7MeanDur.loc[10,1], P7MeanDur.loc[12,1])\n",
    "P6MeanDurRight = (P6MeanDur.loc[0,1], P6MeanDur.loc[2,1], P6MeanDur.loc[4,1], P6MeanDur.loc[6,1], P6MeanDur.loc[8,1], P6MeanDur.loc[10,1], P6MeanDur.loc[12,1])\n",
    "P5MeanDurRight = (P5MeanDur.loc[0,1], P5MeanDur.loc[2,1], P5MeanDur.loc[4,1], P5MeanDur.loc[6,1], P5MeanDur.loc[8,1], P5MeanDur.loc[10,1], P5MeanDur.loc[12,1])\n",
    "P4MeanDurRight = (P4MeanDur.loc[0,1], P4MeanDur.loc[2,1], P4MeanDur.loc[4,1], P4MeanDur.loc[6,1], P4MeanDur.loc[8,1], P4MeanDur.loc[10,1], P4MeanDur.loc[12,1])\n",
    "P3MeanDurRight = (P3MeanDur.loc[0,1], P3MeanDur.loc[2,1], P3MeanDur.loc[4,1], P3MeanDur.loc[6,1], P3MeanDur.loc[8,1], P3MeanDur.loc[10,1], P3MeanDur.loc[12,1])\n",
    "P2MeanDurRight = (P2MeanDur.loc[0,1], P2MeanDur.loc[2,1], P2MeanDur.loc[4,1], P2MeanDur.loc[6,1], P2MeanDur.loc[8,1], P2MeanDur.loc[10,1], P2MeanDur.loc[12,1])\n",
    "P1MeanDurRight = (P1MeanDur.loc[0,1], P1MeanDur.loc[2,1], P1MeanDur.loc[4,1], P1MeanDur.loc[6,1], P1MeanDur.loc[8,1], P1MeanDur.loc[10,1], P1MeanDur.loc[12,1])"
   ]
  },
  {
   "cell_type": "code",
   "execution_count": null,
   "metadata": {},
   "outputs": [],
   "source": [
    "P10stdDurRight = (P10stdDur.loc[0,1], P10stdDur.loc[2,1], P10stdDur.loc[4,1], P10stdDur.loc[6,1], P10stdDur.loc[8,1], P10stdDur.loc[10,1], P10stdDur.loc[12,1])\n",
    "P9stdDurRight = (P9stdDur.loc[0,1], P9stdDur.loc[2,1], P9stdDur.loc[4,1], P9stdDur.loc[6,1], P9stdDur.loc[8,1], P9stdDur.loc[10,1], P9stdDur.loc[12,1])\n",
    "P8stdDurRight = (P8stdDur.loc[0,1], P8stdDur.loc[2,1], P8stdDur.loc[4,1], P8stdDur.loc[6,1], P8stdDur.loc[8,1], P8stdDur.loc[10,1], P8stdDur.loc[12,1])\n",
    "P7stdDurRight = (P7stdDur.loc[0,1], P7stdDur.loc[2,1], P7stdDur.loc[4,1], P7stdDur.loc[6,1], P7stdDur.loc[8,1], P7stdDur.loc[10,1], P7stdDur.loc[12,1])\n",
    "P6stdDurRight = (P6stdDur.loc[0,1], P6stdDur.loc[2,1], P6stdDur.loc[4,1], P6stdDur.loc[6,1], P6stdDur.loc[8,1], P6stdDur.loc[10,1], P6stdDur.loc[12,1])\n",
    "P5stdDurRight = (P5stdDur.loc[0,1], P5stdDur.loc[2,1], P5stdDur.loc[4,1], P5stdDur.loc[6,1], P5stdDur.loc[8,1], P5stdDur.loc[10,1], P5stdDur.loc[12,1])\n",
    "P4stdDurRight = (P4stdDur.loc[0,1], P4stdDur.loc[2,1], P4stdDur.loc[4,1], P4stdDur.loc[6,1], P4stdDur.loc[8,1], P4stdDur.loc[10,1], P4stdDur.loc[12,1])\n",
    "P3stdDurRight = (P3stdDur.loc[0,1], P3stdDur.loc[2,1], P3stdDur.loc[4,1], P3stdDur.loc[6,1], P3stdDur.loc[8,1], P3stdDur.loc[10,1], P3stdDur.loc[12,1])\n",
    "P2stdDurRight = (P2stdDur.loc[0,1], P2stdDur.loc[2,1], P2stdDur.loc[4,1], P2stdDur.loc[6,1], P2stdDur.loc[8,1], P2stdDur.loc[10,1], P2stdDur.loc[12,1])\n",
    "P1stdDurRight = (P1stdDur.loc[0,1], P1stdDur.loc[2,1], P1stdDur.loc[4,1], P1stdDur.loc[6,1], P1stdDur.loc[8,1], P1stdDur.loc[10,1], P1stdDur.loc[12,1])"
   ]
  },
  {
   "cell_type": "code",
   "execution_count": null,
   "metadata": {},
   "outputs": [],
   "source": [
    "conditions = ('NoP', 12.5, 15, 17.5, 20, 22.5, 25)"
   ]
  },
  {
   "cell_type": "code",
   "execution_count": null,
   "metadata": {},
   "outputs": [],
   "source": [
    "conditionsAll = np.repeat(np.array([12.5, 15, 17.5, 20, 22.5, 25]),10)"
   ]
  },
  {
   "cell_type": "code",
   "execution_count": null,
   "metadata": {},
   "outputs": [],
   "source": [
    "P3MeanDurLeft = excludeValues(P3MeanDurLeft, 3)\n",
    "P8MeanDurLeft = excludeValues(P8MeanDurLeft, 3)\n",
    "P4MeanDurLeft = excludeValues(P4MeanDurLeft, 1)\n",
    "P4MeanDurLeft = excludeValues(P4MeanDurLeft, 2)"
   ]
  },
  {
   "cell_type": "code",
   "execution_count": null,
   "metadata": {},
   "outputs": [],
   "source": [
    "P4MeanDurRight = excludeValues(P4MeanDurRight, 1)\n",
    "P4MeanDurRight = excludeValues(P4MeanDurRight, 5)\n",
    "P8MeanDurRight = excludeValues(P8MeanDurRight, 4)\n",
    "P6MeanDurRight = excludeValues(P6MeanDurRight, 6)\n",
    "P3MeanDurRight = excludeValues(P3MeanDurRight, 1)"
   ]
  },
  {
   "cell_type": "code",
   "execution_count": null,
   "metadata": {},
   "outputs": [],
   "source": [
    "P3stdDurLeft = excludeValues(P3stdDurLeft, 3)\n",
    "P8stdDurLeft = excludeValues(P8stdDurLeft, 3)\n",
    "P4stdDurLeft = excludeValues(P4stdDurLeft, 1)\n",
    "P4stdDurLeft = excludeValues(P4stdDurLeft, 2)"
   ]
  },
  {
   "cell_type": "code",
   "execution_count": null,
   "metadata": {},
   "outputs": [],
   "source": [
    "P4stdDurRight = excludeValues(P4stdDurRight, 1)\n",
    "P4stdDurRight = excludeValues(P4stdDurRight, 5)\n",
    "P8stdDurRight = excludeValues(P8stdDurRight, 4)\n",
    "P6stdDurRight = excludeValues(P6stdDurRight, 6)\n",
    "P3stdDurRight = excludeValues(P3stdDurRight, 1)"
   ]
  },
  {
   "cell_type": "code",
   "execution_count": null,
   "metadata": {},
   "outputs": [],
   "source": [
    "PertLeftGroupMeanDurations = groupMeanDuration(P1MeanDurLeft, P2MeanDurLeft, P3MeanDurLeft, P4MeanDurLeft, P5MeanDurLeft, P6MeanDurLeft, P7MeanDurLeft, P8MeanDurLeft, P9MeanDurLeft, P10MeanDurLeft)\n",
    "PertRightGroupMeanDurations = groupMeanDuration(P1MeanDurRight, P2MeanDurRight, P3MeanDurRight, P4MeanDurRight, P5MeanDurRight, P6MeanDurRight, P7MeanDurRight, P8MeanDurRight, P9MeanDurRight, P10MeanDurRight)"
   ]
  },
  {
   "cell_type": "code",
   "execution_count": null,
   "metadata": {},
   "outputs": [],
   "source": [
    "PertRightGroupDurationStds = groupMeanDuration(P1stdDurRight, P2stdDurRight, P3stdDurRight, P4stdDurRight, P5stdDurRight, P6stdDurRight, P7stdDurRight, P8stdDurRight, P9stdDurRight, P10stdDurRight)\n",
    "PertLeftGroupDurationStds = groupMeanDuration(P1stdDurLeft, P2stdDurLeft, P3stdDurLeft, P4stdDurLeft, P5stdDurLeft, P6stdDurLeft, P7stdDurLeft, P8stdDurLeft, P9stdDurLeft, P10stdDurLeft)"
   ]
  },
  {
   "cell_type": "code",
   "execution_count": null,
   "metadata": {},
   "outputs": [],
   "source": [
    "PertLeftGroupMeanDurations = roundList(PertLeftGroupMeanDurations)\n",
    "PertRightGroupMeanDurations = roundList(PertRightGroupMeanDurations)\n",
    "PertLeftGroupDurationStds = roundList(PertLeftGroupDurationStds)\n",
    "PertRightGroupDurationsStds = roundList(PertRightGroupDurationStds)\n"
   ]
  },
  {
   "cell_type": "code",
   "execution_count": null,
   "metadata": {},
   "outputs": [],
   "source": [
    "PertRightGroupMeanDurations"
   ]
  },
  {
   "cell_type": "code",
   "execution_count": null,
   "metadata": {},
   "outputs": [],
   "source": [
    "\"\"\" import plotly.graph_objects as go\n",
    "\n",
    "fig = go.Figure(data=[go.Table(header=dict(values=['Perturbation Distance (cm)', 'Average Movement Duration Left (sec)', 'Standard Deviation Left (sec)', 'Average Movement Duration Right (sec)', 'Standard Deviation Right (sec)']),\n",
    "                 cells=dict(values=[['No Perturbation', 12.5, 15.0, 17.5, 20.0, 22.5, 25.0], PertLeftGroupMeanDurations, PertLeftGroupDurationStds, PertRightGroupMeanDurations, PertRightGroupDurationsStds]))\n",
    "                     ])\n",
    "fig.show()\n",
    "fig.write_image(\"...\")\n",
    "\n",
    " \"\"\""
   ]
  },
  {
   "cell_type": "code",
   "execution_count": null,
   "metadata": {},
   "outputs": [],
   "source": [
    "durationsLeft = np.asarray((P1MeanDurLeft[1:], P2MeanDurLeft[1:], P3MeanDurLeft[1:], P4MeanDurLeft[1:], P5MeanDurLeft[1:], P6MeanDurLeft[1:], P7MeanDurLeft[1:], P8MeanDurLeft[1:], P9MeanDurLeft[1:], P10MeanDurLeft[1:]))\n",
    "durationsLeft = flattenList(durationsLeft)\n",
    "durationsLeft = np.asarray(durationsLeft)\n",
    "durationsLeft = durationsLeft[~np.isnan(durationsLeft)]"
   ]
  },
  {
   "cell_type": "code",
   "execution_count": null,
   "metadata": {},
   "outputs": [],
   "source": [
    "conditionsLeft = np.delete(conditionsAll, [0, 9, 18,19])"
   ]
  },
  {
   "cell_type": "code",
   "execution_count": null,
   "metadata": {},
   "outputs": [],
   "source": [
    "durationsRight = np.asarray((P1MeanDurRight[1:], P2MeanDurRight[1:], P3MeanDurRight[1:], P4MeanDurRight[1:], P5MeanDurRight[1:], P6MeanDurRight[1:],P7MeanDurRight[1:], P8MeanDurRight[1:], P9MeanDurRight[1:], P10MeanDurRight[1:]))\n",
    "durationsRight = flattenList(durationsRight)\n",
    "durationsRight = np.asarray(durationsRight)\n",
    "durationsRight = durationsRight[~np.isnan(durationsRight)]"
   ]
  },
  {
   "cell_type": "code",
   "execution_count": null,
   "metadata": {},
   "outputs": [],
   "source": [
    "conditionsRight = np.delete(conditionsAll, [0, 1, 30, 32, 40])"
   ]
  },
  {
   "cell_type": "code",
   "execution_count": null,
   "metadata": {},
   "outputs": [],
   "source": [
    "plt.style.use(['science', 'muted'])"
   ]
  },
  {
   "cell_type": "code",
   "execution_count": null,
   "metadata": {},
   "outputs": [],
   "source": [
    "#plt.style.use(['science', 'muted'])\n",
    "#fig = plt.figure(figsize=(8,6))\n",
    "#plt.grid(True, linewidth=0.3)\n",
    "#plt.title('Mean Movement Durations')\n",
    "\n",
    "fig, ax = plt.subplots(nrows=1, ncols=2, sharex=True, sharey=True, figsize=(16, 6))\n",
    "fig.text(0.5, 0.0, 'perturbation distance conditions (cm)', ha='center', fontsize=Parameter['axes.labelsize'])\n",
    "fig.text(0.06, 0.5, 'movement durations (sec)', va='center', rotation='vertical', fontsize=Parameter['axes.labelsize'])\n",
    "\n",
    "ax1 = plt.subplot(121)\n",
    "\n",
    "plt.plot(conditions, P1MeanDurLeft, 'o', markersize=12, label='P1')\n",
    "plt.plot(conditions, P2MeanDurLeft, 'o', markersize=12, label='P2')\n",
    "plt.plot(conditions, P3MeanDurLeft, 'o', markersize=12, label='P3')\n",
    "plt.plot(conditions, P4MeanDurLeft, 'o', markersize=12, label='P4')\n",
    "plt.plot(conditions, P5MeanDurLeft, 'o', markersize=12, label='P5')\n",
    "plt.plot(conditions, P6MeanDurLeft, 'o', markersize=12, label='P6')\n",
    "plt.plot(conditions, P7MeanDurLeft, 'o', markersize=12, label='P7')\n",
    "plt.plot(conditions, P8MeanDurLeft, 'o', markersize=12, label='P8')\n",
    "plt.plot(conditions, P9MeanDurLeft, 'o', markersize=12, label='P9')\n",
    "plt.plot(conditions, P10MeanDurLeft, 'o', markersize=12, label='P10')\n",
    "plt.grid(True, linewidth=0.3)\n",
    "\n",
    "ax2 = plt.subplot(122)\n",
    "plt.plot(conditions, P1MeanDurRight, 'o', markersize=12) \n",
    "plt.plot(conditions, P2MeanDurRight, 'o', markersize=12) \n",
    "plt.plot(conditions, P3MeanDurRight, 'o', markersize=12) \n",
    "plt.plot(conditions, P4MeanDurRight, 'o', markersize=12) \n",
    "plt.plot(conditions, P5MeanDurRight, 'o', markersize=12) \n",
    "plt.plot(conditions, P6MeanDurRight, 'o', markersize=12) \n",
    "plt.plot(conditions, P7MeanDurRight, 'o', markersize=12) \n",
    "plt.plot(conditions, P8MeanDurRight, 'o', markersize=12) \n",
    "plt.plot(conditions, P9MeanDurRight, 'o', markersize=12) \n",
    "plt.plot(conditions, P10MeanDurRight, 'o', markersize=12) \n",
    "\n",
    "plt.grid(True, linewidth=0.3)\n",
    "\n",
    "fig.legend(loc='lower center', bbox_to_anchor=(0.51, 0.25))\n",
    "           \n",
    "plt.savefig('...')\n"
   ]
  },
  {
   "cell_type": "code",
   "execution_count": null,
   "metadata": {},
   "outputs": [],
   "source": [
    "\"\"\" def plotGroupMeanVel(T, condGroupMeanVel, name): \n",
    "\n",
    "    t = np.linspace(0,T)\n",
    "    filteredTrajectory = signal.savgol_filter(condGroupMeanVel, 9, 1, 0, axis=0)\n",
    "    #errorX = condGroupVariance[:,0]\n",
    "    #errorY = condGroupVariance[:,1]\n",
    "    #errorZ = condGroupVariance[:,2]\n",
    "    plt.figure()\n",
    "    #plt.title('Mean Trajectory')\n",
    "\n",
    "    plt.subplot(3, 1, 1)\n",
    "    #plt.ylim(0, 0.5)\n",
    "    #axs[0].set_ylim(bottom = -95, top = -60)\n",
    "    plt.plot(t,filteredTrajectory[:,0],linewidth=2,label=\"Mean Velocity\", color='black')\n",
    "    #plt.fill_between(t,filteredTrajectory[:,0] - errorX, filteredTrajectory[:,0]+errorX,linewidth=2.0, color='lightgrey')\n",
    "    #plt.plot(t,filteredTrajectory[:,0] + condGroupVariance[:,0],linewidth=2.0,linestyle=\"--\", color='grey')\n",
    "    #plt.xlabel('time (sec)')\n",
    "    plt.ylabel('forw. vel. (m/s)')\n",
    "    plt.xticks([])\n",
    "    \n",
    "\n",
    "    plt.subplot(3, 1, 2)\n",
    "    plt.plot(t,filteredTrajectory[:,1],linewidth=2,label=\"Mean Velocity\", color='black')\n",
    "    #plt.fill_between(t,filteredTrajectory[:,1] - errorY, filteredTrajectory[:,1]+errorY,linewidth=2.0, color='lightgrey')\n",
    "    #plt.xlabel('time (sec)')\n",
    "    plt.ylabel('lat. vel.')\n",
    "    plt.xticks([])\n",
    "    #plt.axvline(x = groupMeanPertOnset, linestyle = '--', color = 'grey')\n",
    "\n",
    "    plt.subplot(3, 1, 3)\n",
    "    plt.plot(t,filteredTrajectory[:,2],linewidth=2,label=\"Mean Velocity\", color='black')\n",
    "    #plt.fill_between(t,filteredTrajectory[:,2] - errorZ, filteredTrajectory[:,2]+errorZ,linewidth=2.0, color='lightgrey')\n",
    "    plt.xlabel('movement phase')\n",
    "    plt.ylabel('vert. vel.')\n",
    "    plt.legend()\n",
    "\n",
    "    plt.savefig('/Users/ruslan/Dropbox/Mein Mac (Air-von-Ruslan)/Desktop/Uni (Neu)/Masterarbeit/Latex/thesis_1/Figures/' + name + \".pdf\")\n",
    "\n",
    "    \n",
    "\n",
    " \"\"\""
   ]
  },
  {
   "cell_type": "code",
   "execution_count": null,
   "metadata": {},
   "outputs": [],
   "source": [
    "plt.grid(True, linewidth=0.3)\n",
    "#plt.title('std Movement Durations')\n",
    "plt.xlabel('perturbation distance conditions (cm)')\n",
    "plt.ylabel('movement duration standard deviations (sec)')\n",
    "plt.plot(conditions, P1stdDurLeft, 'o', markersize=12, label='P1')\n",
    "plt.plot(conditions, P2stdDurLeft, 'o', markersize=12, label='P2')\n",
    "plt.plot(conditions, P3stdDurLeft, 'o', markersize=12, label='P3')\n",
    "plt.plot(conditions, P4stdDurLeft, 'o', markersize=12, label='P4')\n",
    "plt.plot(conditions, P5stdDurLeft, 'o', markersize=12, label='P5')\n",
    "plt.plot(conditions, P6stdDurLeft, 'o', markersize=12, label='P6')\n",
    "plt.plot(conditions, P7stdDurLeft, 'o', markersize=12, label='P7')\n",
    "plt.plot(conditions, P8stdDurLeft, 'o', markersize=12, label='P8')\n",
    "plt.plot(conditions, P9stdDurLeft, 'o', markersize=12, label='P9')\n",
    "plt.plot(conditions, P10stdDurLeft, 'o', markersize=12, label='P10')\n",
    "plt.legend()\n",
    "plt.savefig('...')"
   ]
  },
  {
   "cell_type": "code",
   "execution_count": null,
   "metadata": {},
   "outputs": [],
   "source": [
    "plt.grid(True, linewidth=0.3)\n",
    "plt.xlabel('perturbation distance conditions (cm)')\n",
    "plt.ylabel('movement durations (sec)')\n",
    "plt.plot(conditions, P1MeanDurRight, 'o', markersize=12, label='P1')\n",
    "plt.plot(conditions, P2MeanDurRight, 'o', markersize=12, label='P2')\n",
    "plt.plot(conditions, P3MeanDurRight, 'o', markersize=12, label='P3')\n",
    "plt.plot(conditions, P4MeanDurRight, 'o', markersize=12, label='P4')\n",
    "plt.plot(conditions, P5MeanDurRight, 'o', markersize=12, label='P5')\n",
    "plt.plot(conditions, P6MeanDurRight, 'o', markersize=12, label='P6')\n",
    "plt.plot(conditions, P7MeanDurRight, 'o', markersize=12, label='P7')\n",
    "plt.plot(conditions, P8MeanDurRight, 'o', markersize=12, label='P8')\n",
    "plt.plot(conditions, P9MeanDurRight, 'o', markersize=12, label='P9')\n",
    "plt.plot(conditions, P10MeanDurRight, 'o', markersize=12, label='P10')\n",
    "plt.legend()\n",
    "plt.savefig('...')"
   ]
  },
  {
   "cell_type": "code",
   "execution_count": null,
   "metadata": {},
   "outputs": [],
   "source": [
    "plt.grid(True, linewidth=0.3)\n",
    "plt.grid(True, linewidth=0.3)\n",
    "plt.xlabel('perturbation distance conditions (cm)')\n",
    "plt.ylabel('movement duration standard deviations (sec)')\n",
    "plt.plot(conditions, P1stdDurRight, 'o', markersize=12, label='P1')\n",
    "plt.plot(conditions, P2stdDurRight, 'o', markersize=12, label='P2')\n",
    "plt.plot(conditions, P3stdDurRight, 'o', markersize=12, label='P3')\n",
    "plt.plot(conditions, P4stdDurRight, 'o', markersize=12, label='P4')\n",
    "plt.plot(conditions, P5stdDurRight, 'o', markersize=12, label='P5')\n",
    "plt.plot(conditions, P6stdDurRight, 'o', markersize=12, label='P6')\n",
    "plt.plot(conditions, P7stdDurRight, 'o', markersize=12, label='P7')\n",
    "plt.plot(conditions, P8stdDurRight, 'o', markersize=12, label='P8')\n",
    "plt.plot(conditions, P9stdDurRight, 'o', markersize=12, label='P9')\n",
    "plt.plot(conditions, P10stdDurRight, 'o', markersize=12, label='P10')\n",
    "plt.legend()\n",
    "#plt.savefig('...')"
   ]
  },
  {
   "cell_type": "markdown",
   "metadata": {},
   "source": [
    "Successes"
   ]
  },
  {
   "cell_type": "code",
   "execution_count": null,
   "metadata": {},
   "outputs": [],
   "source": [
    "def unpickleSuccesses(infile = '...'):\n",
    "\n",
    "    infile = open(infile,'rb')\n",
    "    Successes = pickle.load(infile)\n",
    "    infile.close()\n",
    "\n",
    "    return Successes"
   ]
  },
  {
   "cell_type": "code",
   "execution_count": null,
   "metadata": {},
   "outputs": [],
   "source": [
    "#mean movedurations:\n",
    "P1Successes = unpickleSuccesses(infile = '...')\n",
    "P2Successes = unpickleSuccesses(infile = '...')\n",
    "P3Successes = unpickleSuccesses(infile = '...')\n",
    "P4Successes = unpickleSuccesses(infile = '...')\n",
    "P5Successes = unpickleSuccesses(infile = '...')\n",
    "P6Successes = unpickleSuccesses(infile = '...')\n",
    "P7Successes = unpickleSuccesses(infile = '...')\n",
    "P8Successes = unpickleSuccesses(infile = '...')\n",
    "P9Successes = unpickleSuccesses(infile = '...')\n",
    "P10Successes = unpickleSuccesses(infile = '...')\n",
    "\n"
   ]
  },
  {
   "cell_type": "code",
   "execution_count": null,
   "metadata": {},
   "outputs": [],
   "source": [
    "nCond2LeftTrials = P1Successes.nTrials[0] + P2Successes.nTrials[0]+ P3Successes.nTrials[0]+ P4Successes.nTrials[0]+ P5Successes.nTrials[0]+ P6Successes.nTrials[0]+ P7Successes.nTrials[0]+ P8Successes.nTrials[0]+ P9Successes.nTrials[0] + P10Successes.nTrials[0]\n",
    "nCond2RightTrials = P1Successes.nTrials[1] + P2Successes.nTrials[1]+ P3Successes.nTrials[1]+ P4Successes.nTrials[1]+ P5Successes.nTrials[1]+ P6Successes.nTrials[1]+ P7Successes.nTrials[1]+ P8Successes.nTrials[1]+ P9Successes.nTrials[1] + P10Successes.nTrials[1]\n",
    "\n",
    "nCond3LeftTrials = P1Successes.nTrials[2] + P2Successes.nTrials[2]+ P3Successes.nTrials[2]+ P4Successes.nTrials[2]+ P5Successes.nTrials[2]+ P6Successes.nTrials[2]+ P7Successes.nTrials[2]+ P8Successes.nTrials[2]+ P9Successes.nTrials[2] + P10Successes.nTrials[2]\n",
    "nCond3RightTrials = P1Successes.nTrials[3] + P2Successes.nTrials[3]+ P3Successes.nTrials[3]+ P4Successes.nTrials[3]+ P5Successes.nTrials[3]+ P6Successes.nTrials[3]+ P7Successes.nTrials[3]+ P8Successes.nTrials[3]+ P9Successes.nTrials[3] + P10Successes.nTrials[3]\n",
    "\n",
    "nCond4LeftTrials = P1Successes.nTrials[4] + P2Successes.nTrials[4]+ P3Successes.nTrials[4]+ P4Successes.nTrials[4]+ P5Successes.nTrials[4]+ P6Successes.nTrials[4]+ P7Successes.nTrials[4]+ P8Successes.nTrials[4]+ P9Successes.nTrials[4] + P10Successes.nTrials[4]\n",
    "nCond4RightTrials = P1Successes.nTrials[5] + P2Successes.nTrials[5]+ P3Successes.nTrials[5]+ P4Successes.nTrials[5]+ P5Successes.nTrials[5]+ P6Successes.nTrials[5]+ P7Successes.nTrials[5]+ P8Successes.nTrials[5]+ P9Successes.nTrials[5] + P10Successes.nTrials[5]\n",
    "\n",
    "nCond5LeftTrials = P1Successes.nTrials[6] + P2Successes.nTrials[6]+ P3Successes.nTrials[6]+ P4Successes.nTrials[6]+ P5Successes.nTrials[6]+ P6Successes.nTrials[6]+ P7Successes.nTrials[6]+ P8Successes.nTrials[6]+ P9Successes.nTrials[6] + P10Successes.nTrials[6]\n",
    "nCond5RightTrials = P1Successes.nTrials[7] + P2Successes.nTrials[7]+ P3Successes.nTrials[7]+ P4Successes.nTrials[7]+ P5Successes.nTrials[7]+ P6Successes.nTrials[7]+ P7Successes.nTrials[7]+ P8Successes.nTrials[7]+ P9Successes.nTrials[7] + P10Successes.nTrials[7]\n",
    "\n",
    "nCond6LeftTrials = P1Successes.nTrials[8] + P2Successes.nTrials[8]+ P3Successes.nTrials[8]+ P4Successes.nTrials[8]+ P5Successes.nTrials[8]+ P6Successes.nTrials[8]+ P7Successes.nTrials[8]+ P8Successes.nTrials[8]+ P9Successes.nTrials[8] + P10Successes.nTrials[8]\n",
    "nCond6RightTrials = P1Successes.nTrials[9] + P2Successes.nTrials[9]+ P3Successes.nTrials[9]+ P4Successes.nTrials[9]+ P5Successes.nTrials[9]+ P6Successes.nTrials[9]+ P7Successes.nTrials[9]+ P8Successes.nTrials[9]+ P9Successes.nTrials[9] + P10Successes.nTrials[9]\n",
    "\n",
    "nCond7LeftTrials = P1Successes.nTrials[10] + P2Successes.nTrials[10]+ P3Successes.nTrials[10]+ P4Successes.nTrials[10]+ P5Successes.nTrials[10]+ P6Successes.nTrials[10]+ P7Successes.nTrials[10]+ P8Successes.nTrials[10]+ P9Successes.nTrials[10] + P10Successes.nTrials[10]\n",
    "nCond7RightTrials = P1Successes.nTrials[11] + P2Successes.nTrials[11]+ P3Successes.nTrials[11]+ P4Successes.nTrials[11]+ P5Successes.nTrials[11]+ P6Successes.nTrials[11]+ P7Successes.nTrials[11]+ P8Successes.nTrials[11]+ P9Successes.nTrials[11] + P10Successes.nTrials[11]"
   ]
  },
  {
   "cell_type": "code",
   "execution_count": null,
   "metadata": {},
   "outputs": [],
   "source": [
    "Blocks = ('B1', 'B2', 'B3', 'B4', 'B5', 'B6', 'B7', 'B8', 'B9', 'B10', 'B11', 'B12', 'B13', 'B14', 'B15', 'B16', 'B17')\n",
    "BlocksP7 = ('B1', 'B2', 'B3', 'B4', 'B5', 'B6', 'B7', 'B8', 'B9', 'B10', 'B11', 'B12', 'B13', 'B14')"
   ]
  },
  {
   "cell_type": "code",
   "execution_count": null,
   "metadata": {},
   "outputs": [],
   "source": [
    "SuccessesPerBlockP1 = (P1Successes.loc['SuccessProportion', 'B1':'B17'])\n",
    "SuccessesPerBlockP2 = (P2Successes.loc['SuccessProportion', 'B1':'B17'])\n",
    "SuccessesPerBlockP3 = (P3Successes.loc['SuccessProportion', 'B1':'B17'])\n",
    "SuccessesPerBlockP4 = (P4Successes.loc['SuccessProportion', 'B1':'B17'])\n",
    "SuccessesPerBlockP5 = (P5Successes.loc['SuccessProportion', 'B1':'B17'])\n",
    "SuccessesPerBlockP6 = (P6Successes.loc['SuccessProportion', 'B1':'B17'])\n",
    "SuccessesPerBlockP7 = (P7Successes.loc['SuccessProportion', 'B1':'B14'])\n",
    "SuccessesPerBlockP8 = (P8Successes.loc['SuccessProportion', 'B1':'B17'])\n",
    "SuccessesPerBlockP9 = (P9Successes.loc['SuccessProportion', 'B1':'B17'])\n",
    "SuccessesPerBlockP10 = (P10Successes.loc['SuccessProportion', 'B1':'B17'])"
   ]
  },
  {
   "cell_type": "code",
   "execution_count": null,
   "metadata": {},
   "outputs": [],
   "source": [
    "SuccessesPerCondP1 = (P1Successes.iloc[0:12, -1])\n",
    "SuccessesPerCondP2 = (P2Successes.iloc[0:12, -1])\n",
    "SuccessesPerCondP3 = (P3Successes.iloc[0:12, -1])\n",
    "SuccessesPerCondP4 = (P4Successes.iloc[0:12, -1])\n",
    "SuccessesPerCondP5 = (P5Successes.iloc[0:12, -1])\n",
    "SuccessesPerCondP6 = (P6Successes.iloc[0:12, -1])\n",
    "SuccessesPerCondP7 = (P7Successes.iloc[0:12, -1])\n",
    "SuccessesPerCondP8 = (P8Successes.iloc[0:12, -1])\n",
    "SuccessesPerCondP9 = (P9Successes.iloc[0:12, -1])\n",
    "SuccessesPerCondP10 = (P10Successes.iloc[0:12, -1])"
   ]
  },
  {
   "cell_type": "code",
   "execution_count": null,
   "metadata": {},
   "outputs": [],
   "source": [
    "SuccessesPerCondP1L = (SuccessesPerCondP1[0], SuccessesPerCondP1[2], SuccessesPerCondP1[4], SuccessesPerCondP1[6], SuccessesPerCondP1[8], SuccessesPerCondP1[10])\n",
    "SuccessesPerCondP2L = (SuccessesPerCondP2[0], SuccessesPerCondP2[2], SuccessesPerCondP2[4], SuccessesPerCondP2[6], SuccessesPerCondP2[8], SuccessesPerCondP2[10])\n",
    "SuccessesPerCondP3L = (SuccessesPerCondP3[0], SuccessesPerCondP3[2], SuccessesPerCondP3[4], SuccessesPerCondP3[6], SuccessesPerCondP3[8], SuccessesPerCondP3[10])\n",
    "SuccessesPerCondP4L = (SuccessesPerCondP4[0], SuccessesPerCondP4[2], SuccessesPerCondP4[4], SuccessesPerCondP4[6], SuccessesPerCondP4[8], SuccessesPerCondP4[10])\n",
    "SuccessesPerCondP5L = (SuccessesPerCondP5[0], SuccessesPerCondP5[2], SuccessesPerCondP5[4], SuccessesPerCondP5[6], SuccessesPerCondP5[8], SuccessesPerCondP5[10])\n",
    "SuccessesPerCondP6L = (SuccessesPerCondP6[0], SuccessesPerCondP6[2], SuccessesPerCondP6[4], SuccessesPerCondP6[6], SuccessesPerCondP6[8], SuccessesPerCondP6[10])\n",
    "SuccessesPerCondP7L = (SuccessesPerCondP7[0], SuccessesPerCondP7[2], SuccessesPerCondP7[4], SuccessesPerCondP7[6], SuccessesPerCondP7[8], SuccessesPerCondP7[10])\n",
    "SuccessesPerCondP8L = (SuccessesPerCondP8[0], SuccessesPerCondP8[2], SuccessesPerCondP8[4], SuccessesPerCondP8[6], SuccessesPerCondP8[8], SuccessesPerCondP8[10])\n",
    "SuccessesPerCondP9L = (SuccessesPerCondP9[0], SuccessesPerCondP9[2], SuccessesPerCondP9[4], SuccessesPerCondP9[6], SuccessesPerCondP9[8], SuccessesPerCondP9[10])\n",
    "SuccessesPerCondP10L = (SuccessesPerCondP10[0], SuccessesPerCondP10[2], SuccessesPerCondP10[4], SuccessesPerCondP10[6], SuccessesPerCondP10[8], SuccessesPerCondP10[10])\n"
   ]
  },
  {
   "cell_type": "code",
   "execution_count": null,
   "metadata": {},
   "outputs": [],
   "source": [
    "SuccessesPerCondP1R = (SuccessesPerCondP1[1], SuccessesPerCondP1[3], SuccessesPerCondP1[5], SuccessesPerCondP1[7], SuccessesPerCondP1[9], SuccessesPerCondP1[11])\n",
    "SuccessesPerCondP2R = (SuccessesPerCondP2[1], SuccessesPerCondP2[3], SuccessesPerCondP2[5], SuccessesPerCondP2[7], SuccessesPerCondP2[9], SuccessesPerCondP2[11])\n",
    "SuccessesPerCondP3R = (SuccessesPerCondP3[1], SuccessesPerCondP3[3], SuccessesPerCondP3[5], SuccessesPerCondP3[7], SuccessesPerCondP3[9], SuccessesPerCondP3[11])\n",
    "SuccessesPerCondP4R = (SuccessesPerCondP4[1], SuccessesPerCondP4[3], SuccessesPerCondP4[5], SuccessesPerCondP4[7], SuccessesPerCondP4[9], SuccessesPerCondP4[11])\n",
    "SuccessesPerCondP5R = (SuccessesPerCondP5[1], SuccessesPerCondP5[3], SuccessesPerCondP5[5], SuccessesPerCondP5[7], SuccessesPerCondP5[9], SuccessesPerCondP5[11])\n",
    "SuccessesPerCondP6R = (SuccessesPerCondP6[1], SuccessesPerCondP6[3], SuccessesPerCondP6[5], SuccessesPerCondP6[7], SuccessesPerCondP6[9], SuccessesPerCondP6[11])\n",
    "SuccessesPerCondP7R = (SuccessesPerCondP7[1], SuccessesPerCondP7[3], SuccessesPerCondP7[5], SuccessesPerCondP7[7], SuccessesPerCondP7[9], SuccessesPerCondP7[11])\n",
    "SuccessesPerCondP8R = (SuccessesPerCondP8[1], SuccessesPerCondP8[3], SuccessesPerCondP8[5], SuccessesPerCondP8[7], SuccessesPerCondP8[9], SuccessesPerCondP8[11])\n",
    "SuccessesPerCondP9R = (SuccessesPerCondP9[1], SuccessesPerCondP9[3], SuccessesPerCondP9[5], SuccessesPerCondP9[7], SuccessesPerCondP9[9], SuccessesPerCondP9[11])\n",
    "SuccessesPerCondP10R = (SuccessesPerCondP10[1], SuccessesPerCondP10[3], SuccessesPerCondP10[5], SuccessesPerCondP10[7], SuccessesPerCondP10[9], SuccessesPerCondP10[11])"
   ]
  },
  {
   "cell_type": "code",
   "execution_count": null,
   "metadata": {},
   "outputs": [],
   "source": [
    "conditions = ('12.5L', '12.5R', '15L', '15R', '17.5L', '17.5R', '20L', '20R', '22.5L', '22.5R', '25L', '25R')"
   ]
  },
  {
   "cell_type": "code",
   "execution_count": null,
   "metadata": {},
   "outputs": [],
   "source": [
    "conditions2 = (12.5, 15, 17.5, 20, 22.5, 25)"
   ]
  },
  {
   "cell_type": "code",
   "execution_count": null,
   "metadata": {},
   "outputs": [],
   "source": [
    "conditionsNum = [12.5, 12.5, 15, 15, 17.5, 17.5, 20, 20, 22.5, 22.5, 25, 25]"
   ]
  },
  {
   "cell_type": "code",
   "execution_count": null,
   "metadata": {},
   "outputs": [],
   "source": [
    "def groupMeanSuccesses(condMeanP1, condMeanP2, condMeanP3, condMeanP4, condMeanP5, condMeanP6, condMeanP7, condMeanP8, condMeanP9):\n",
    "    MeanSuccesses = np.column_stack((condMeanP1, condMeanP2, condMeanP3, condMeanP4, condMeanP5, condMeanP6, condMeanP7, condMeanP8, condMeanP9))\n",
    "\n",
    "    GroupMeanSuccesses = []\n",
    "    for i in range(len(MeanSuccesses)):\n",
    "        GroupMeanSuccesses.append(np.nanmean(MeanSuccesses[i,:]))\n",
    "\n",
    "    return GroupMeanSuccesses"
   ]
  },
  {
   "cell_type": "code",
   "execution_count": null,
   "metadata": {},
   "outputs": [],
   "source": [
    "GroupMeanSuccessesPerBlock = groupMeanSuccesses(np.asarray(SuccessesPerBlockP1), np.asarray(SuccessesPerBlockP2), np.asarray(SuccessesPerBlockP3), np.asarray(SuccessesPerBlockP4), np.asarray(SuccessesPerBlockP5), np.asarray(SuccessesPerBlockP6), np.asarray(SuccessesPerBlockP8), np.asarray(SuccessesPerBlockP9), np.asarray(SuccessesPerBlockP10))"
   ]
  },
  {
   "cell_type": "code",
   "execution_count": null,
   "metadata": {},
   "outputs": [],
   "source": [
    "#fig = plt.figure(figsize=(12,8))\n",
    "plt.grid(True, linewidth=0.3)\n",
    "#plt.title('Successproportions per Block (%)')\n",
    "plt.xlabel('blocks')\n",
    "plt.ylabel('success rate')\n",
    "plt.plot(Blocks, SuccessesPerBlockP1, 'o', markersize=12, label='P1')\n",
    "plt.plot(Blocks, SuccessesPerBlockP2, 'o', markersize=12, label='P2')\n",
    "plt.plot(Blocks, SuccessesPerBlockP3, 'o', markersize=12, label='P3')\n",
    "plt.plot(Blocks, SuccessesPerBlockP4, 'o', markersize=12, label='P4')\n",
    "plt.plot(Blocks, SuccessesPerBlockP5, 'o', markersize=12, label='P5')\n",
    "plt.plot(Blocks, SuccessesPerBlockP6, 'o', markersize=12, label='P6')\n",
    "plt.plot(BlocksP7, SuccessesPerBlockP7, 'o', markersize=12, label='P7')\n",
    "plt.plot(Blocks, SuccessesPerBlockP8, 'o', markersize=12, label='P8')\n",
    "plt.plot(Blocks, SuccessesPerBlockP9, 'o', markersize=12, label='P9')\n",
    "plt.plot(Blocks, SuccessesPerBlockP10, 'o', markersize=12, label='P10')\n",
    "plt.plot(Blocks, GroupMeanSuccessesPerBlock, color='black')\n",
    "plt.legend(loc='lower right',bbox_to_anchor=(1, 0))\n",
    "plt.savefig('...')"
   ]
  },
  {
   "cell_type": "code",
   "execution_count": null,
   "metadata": {},
   "outputs": [],
   "source": [
    "successConditions = np.repeat(np.array([12.5, 15, 17.5, 20, 22.5, 25]),10)"
   ]
  },
  {
   "cell_type": "code",
   "execution_count": null,
   "metadata": {},
   "outputs": [],
   "source": [
    "allSuccessesLeft = np.array([SuccessesPerCondP1L, SuccessesPerCondP2L, SuccessesPerCondP3L, SuccessesPerCondP4L, SuccessesPerCondP5L, SuccessesPerCondP6L, SuccessesPerCondP7L, SuccessesPerCondP8L, SuccessesPerCondP9L, SuccessesPerCondP10L])\n",
    "\n",
    "#allSuccesses = flattenList(allSuccesses)"
   ]
  },
  {
   "cell_type": "code",
   "execution_count": null,
   "metadata": {},
   "outputs": [],
   "source": [
    "allSuccessesRight = np.array([SuccessesPerCondP1R, SuccessesPerCondP2R, SuccessesPerCondP3R, SuccessesPerCondP4R, SuccessesPerCondP5R, SuccessesPerCondP6R, SuccessesPerCondP7R, SuccessesPerCondP8R, SuccessesPerCondP9R, SuccessesPerCondP10R])"
   ]
  },
  {
   "cell_type": "code",
   "execution_count": null,
   "metadata": {},
   "outputs": [],
   "source": [
    "print(np.mean(allSuccessesRight[:,0]))\n",
    "print(np.mean(allSuccessesRight[:,1]))\n",
    "print(np.mean(allSuccessesRight[:,2]))\n",
    "print(np.mean(allSuccessesRight[:,3]))\n",
    "print(np.mean(allSuccessesRight[:,4]))\n",
    "print(np.mean(allSuccessesRight[:,5]))\n",
    "\n",
    "meanSuccessesPerCondRight = [np.mean(allSuccessesRight[:,0]), np.mean(allSuccessesRight[:,1]), np.mean(allSuccessesRight[:,2]), np.mean(allSuccessesRight[:,3]), np.mean(allSuccessesRight[:,4]), np.mean(allSuccessesRight[:,5])]"
   ]
  },
  {
   "cell_type": "code",
   "execution_count": null,
   "metadata": {},
   "outputs": [],
   "source": [
    "print(np.mean(allSuccessesLeft[:,0]))\n",
    "print(np.mean(allSuccessesLeft[:,1]))\n",
    "print(np.mean(allSuccessesLeft[:,2]))\n",
    "print(np.mean(allSuccessesLeft[:,3]))\n",
    "print(np.mean(allSuccessesLeft[:,4]))\n",
    "print(np.mean(allSuccessesLeft[:,5]))\n",
    "\n",
    "meanSuccessesPerCondLeft = [np.mean(allSuccessesLeft[:,0]), np.mean(allSuccessesLeft[:,1]), np.mean(allSuccessesLeft[:,2]), np.mean(allSuccessesLeft[:,3]), np.mean(allSuccessesLeft[:,4]), np.mean(allSuccessesLeft[:,5])]"
   ]
  },
  {
   "cell_type": "code",
   "execution_count": null,
   "metadata": {},
   "outputs": [],
   "source": [
    "meanSuccessesPerCondLeft = roundList(meanSuccessesPerCondLeft)\n",
    "meanSuccessesPerCondRight = roundList(meanSuccessesPerCondRight)"
   ]
  },
  {
   "cell_type": "code",
   "execution_count": null,
   "metadata": {},
   "outputs": [],
   "source": [
    "meanSuccessesPerCondLeft = np.asarray(meanSuccessesPerCondLeft)\n",
    "meanSuccessesPerCondRight = np.asarray(meanSuccessesPerCondRight)"
   ]
  },
  {
   "cell_type": "code",
   "execution_count": null,
   "metadata": {},
   "outputs": [],
   "source": [
    "meanSuccessesPerCondLeft*=100\n",
    "meanSuccessesPerCondRight*=100"
   ]
  },
  {
   "cell_type": "code",
   "execution_count": null,
   "metadata": {},
   "outputs": [],
   "source": [
    "\"\"\" import plotly.graph_objects as go\n",
    "\n",
    "fig = go.Figure(data=[go.Table(header=dict(values=['Perturbation Distance Condition (cm)', 'Success Rate Left (%)', 'Success Rate Right (%)']),\n",
    "                 cells=dict(values=[[12.5, 15.0, 17.5, 20.0, 22.5, 25.0], meanSuccessesPerCondLeft, meanSuccessesPerCondRight]))\n",
    "                     ])\n",
    "fig.show()\n",
    "fig.write_image(\"...\")\n",
    "\n",
    " \"\"\""
   ]
  },
  {
   "cell_type": "code",
   "execution_count": null,
   "metadata": {},
   "outputs": [],
   "source": [
    "plt.grid(True, linewidth=0.3)\n",
    "#plt.title('Successproportions per Condition')\n",
    "plt.xlabel('conditions')\n",
    "plt.ylabel('success rates (\\%)')\n",
    "plt.plot(conditions, SuccessesPerCondP1, 'o', markersize=12, label='P1')\n",
    "plt.plot(conditions, SuccessesPerCondP2, 'o', markersize=12, label='P2')\n",
    "plt.plot(conditions, SuccessesPerCondP3, 'o', markersize=12, label='P3')\n",
    "plt.plot(conditions, SuccessesPerCondP4, 'o', markersize=12, label='P4')\n",
    "plt.plot(conditions, SuccessesPerCondP5, 'o', markersize=12, label='P5')\n",
    "plt.plot(conditions, SuccessesPerCondP6, 'o', markersize=12, label='P6')\n",
    "plt.plot(conditions, SuccessesPerCondP7, 'o', markersize=12, label='P7')\n",
    "plt.plot(conditions, SuccessesPerCondP8, 'o', markersize=12, label='P8')\n",
    "plt.plot(conditions, SuccessesPerCondP9, 'o', markersize=12, label='P9')\n",
    "plt.plot(conditions, SuccessesPerCondP10, 'o', markersize=12, label='P10')\n",
    "\n",
    "plt.legend()\n",
    "plt.savefig('.../')\n",
    "\n",
    "\n",
    "\n"
   ]
  },
  {
   "cell_type": "code",
   "execution_count": null,
   "metadata": {},
   "outputs": [],
   "source": [
    "plt.grid(True, linewidth=0.3)\n",
    "plt.xlabel('conditions')\n",
    "plt.ylabel('success rates (\\%)')\n",
    "plt.plot(conditions2, SuccessesPerCondP1L, 'o', markersize=12, label='P1')\n",
    "plt.plot(conditions2, SuccessesPerCondP2L, 'o', markersize=12, label='P2')\n",
    "plt.plot(conditions2, SuccessesPerCondP3L, 'o', markersize=12, label='P3')\n",
    "plt.plot(conditions2, SuccessesPerCondP4L, 'o', markersize=12, label='P4')\n",
    "plt.plot(conditions2, SuccessesPerCondP5L, 'o', markersize=12, label='P5')\n",
    "plt.plot(conditions2, SuccessesPerCondP6L, 'o', markersize=12, label='P6')\n",
    "plt.plot(conditions2, SuccessesPerCondP7L, 'o', markersize=12, label='P7')\n",
    "plt.plot(conditions2, SuccessesPerCondP8L, 'o', markersize=12, label='P8')\n",
    "plt.plot(conditions2, SuccessesPerCondP9L, 'o', markersize=12, label='P9')\n",
    "plt.plot(conditions2, SuccessesPerCondP10L, 'o', markersize=12, label='P1')\n",
    "plt.xticks([12.5, 15, 17.5, 20, 22.5, 25])\n",
    "plt.legend()\n",
    "plt.savefig('...')\n"
   ]
  },
  {
   "cell_type": "code",
   "execution_count": null,
   "metadata": {},
   "outputs": [],
   "source": [
    "plt.grid(True, linewidth=0.3)\n",
    "#plt.title('Successproportions per cond')\n",
    "plt.xlabel('conditions')\n",
    "plt.ylabel('success rates (\\%)')\n",
    "plt.plot(conditions2, SuccessesPerCondP1R, 'o', markersize=12, label='P1')\n",
    "plt.plot(conditions2, SuccessesPerCondP2R, 'o', markersize=12, label='P2')\n",
    "plt.plot(conditions2, SuccessesPerCondP3R, 'o', markersize=12, label='P3')\n",
    "plt.plot(conditions2, SuccessesPerCondP4R, 'o', markersize=12, label='P4')\n",
    "plt.plot(conditions2, SuccessesPerCondP5R, 'o', markersize=12, label='P5')\n",
    "plt.plot(conditions2, SuccessesPerCondP6R, 'o', markersize=12, label='P6')\n",
    "plt.plot(conditions2, SuccessesPerCondP7R, 'o', markersize=12, label='P7')\n",
    "plt.plot(conditions2, SuccessesPerCondP8R, 'o', markersize=12, label='P8')\n",
    "plt.plot(conditions2, SuccessesPerCondP9R, 'o', markersize=12, label='P9')\n",
    "plt.plot(conditions2, SuccessesPerCondP10R, 'o', markersize=12, label='P1')\n",
    "plt.xticks([12.5, 15, 17.5, 20, 22.5, 25])\n",
    "plt.legend()\n",
    "plt.savefig('...')\n"
   ]
  },
  {
   "cell_type": "markdown",
   "metadata": {},
   "source": [
    "Ball Distances"
   ]
  },
  {
   "cell_type": "code",
   "execution_count": null,
   "metadata": {},
   "outputs": [],
   "source": [
    "ballDistP1 = pd.read_csv('...', header=None)\n",
    "ballDistP2 = pd.read_csv('...', header=None)\n",
    "ballDistP3 = pd.read_csv('...', header=None)\n",
    "ballDistP4 = pd.read_csv('...', header=None)\n",
    "ballDistP5 = pd.read_csv('...', header=None)\n",
    "ballDistP6 = pd.read_csv('...', header=None)\n",
    "ballDistP7 = pd.read_csv('...', header=None)\n",
    "ballDistP8 = pd.read_csv('...', header=None)\n",
    "ballDistP9 = pd.read_csv('...', header=None)\n",
    "ballDistP10 = pd.read_csv('...', header=None)\n"
   ]
  },
  {
   "cell_type": "code",
   "execution_count": null,
   "metadata": {},
   "outputs": [],
   "source": [
    "#ballDistP6"
   ]
  },
  {
   "cell_type": "code",
   "execution_count": null,
   "metadata": {},
   "outputs": [],
   "source": [
    "ballDistStdP1 = pd.read_csv('...', header=None)\n",
    "ballDistStdP2 = pd.read_csv('...', header=None)\n",
    "ballDistStdP3 = pd.read_csv('...', header=None)\n",
    "ballDistStdP4 = pd.read_csv('...', header=None)\n",
    "ballDistStdP5 = pd.read_csv('...', header=None)\n",
    "ballDistStdP6 = pd.read_csv('...', header=None)\n",
    "ballDistStdP7 = pd.read_csv('...', header=None)\n",
    "ballDistStdP8 = pd.read_csv('...', header=None)\n",
    "ballDistStdP9 = pd.read_csv('...', header=None)\n",
    "ballDistStdP10 = pd.read_csv('...', header=None)"
   ]
  },
  {
   "cell_type": "code",
   "execution_count": null,
   "metadata": {},
   "outputs": [],
   "source": [
    "ballDistP1L = (ballDistP1.iloc[0,1], ballDistP1.iloc[2,1], ballDistP1.iloc[4,1], ballDistP1.iloc[6,1], ballDistP1.iloc[8,1], ballDistP1.iloc[10,1])\n",
    "ballDistP2L = (ballDistP2.iloc[0,1], ballDistP2.iloc[2,1], ballDistP2.iloc[4,1], ballDistP2.iloc[6,1], ballDistP2.iloc[8,1], ballDistP2.iloc[10,1])\n",
    "ballDistP3L = (ballDistP3.iloc[0,1], ballDistP3.iloc[2,1], ballDistP3.iloc[4,1], ballDistP3.iloc[6,1], ballDistP3.iloc[8,1], ballDistP3.iloc[10,1])\n",
    "ballDistP4L = (ballDistP4.iloc[0,1], ballDistP4.iloc[2,1], ballDistP4.iloc[4,1], ballDistP4.iloc[6,1], ballDistP4.iloc[8,1], ballDistP4.iloc[10,1])\n",
    "ballDistP5L = (ballDistP5.iloc[0,1], ballDistP5.iloc[2,1], ballDistP5.iloc[4,1], ballDistP5.iloc[6,1], ballDistP5.iloc[8,1], ballDistP5.iloc[10,1])\n",
    "ballDistP6L = (ballDistP6.iloc[0,1], ballDistP6.iloc[2,1], ballDistP6.iloc[4,1], ballDistP6.iloc[6,1], ballDistP6.iloc[8,1], ballDistP6.iloc[10,1])\n",
    "ballDistP7L = (ballDistP7.iloc[0,1], ballDistP7.iloc[2,1], ballDistP7.iloc[4,1], ballDistP7.iloc[6,1], ballDistP7.iloc[8,1], ballDistP7.iloc[10,1])\n",
    "ballDistP8L = (ballDistP8.iloc[0,1], ballDistP8.iloc[2,1], ballDistP8.iloc[4,1], ballDistP8.iloc[6,1], ballDistP8.iloc[8,1], ballDistP8.iloc[10,1])\n",
    "ballDistP9L = (ballDistP9.iloc[0,1], ballDistP9.iloc[2,1], ballDistP9.iloc[4,1], ballDistP9.iloc[6,1], ballDistP9.iloc[8,1], ballDistP9.iloc[10,1])\n",
    "ballDistP10L = (ballDistP10.iloc[0,1], ballDistP10.iloc[2,1], ballDistP10.iloc[4,1], ballDistP10.iloc[6,1], ballDistP10.iloc[8,1], ballDistP10.iloc[10,1])"
   ]
  },
  {
   "cell_type": "code",
   "execution_count": null,
   "metadata": {},
   "outputs": [],
   "source": [
    "ballDistP1R = (ballDistP1.iloc[1,1], ballDistP1.iloc[3,1], ballDistP1.iloc[5,1], ballDistP1.iloc[7,1], ballDistP1.iloc[9,1], ballDistP1.iloc[11,1])\n",
    "ballDistP2R = (ballDistP2.iloc[1,1], ballDistP2.iloc[3,1], ballDistP2.iloc[5,1], ballDistP2.iloc[7,1], ballDistP2.iloc[9,1], ballDistP2.iloc[11,1])\n",
    "ballDistP3R = (ballDistP3.iloc[1,1], ballDistP3.iloc[3,1], ballDistP3.iloc[5,1], ballDistP3.iloc[7,1], ballDistP3.iloc[9,1], ballDistP3.iloc[11,1])\n",
    "ballDistP4R = (ballDistP4.iloc[1,1], ballDistP4.iloc[3,1], ballDistP4.iloc[5,1], ballDistP4.iloc[7,1], ballDistP4.iloc[9,1], ballDistP4.iloc[11,1])\n",
    "ballDistP5R = (ballDistP5.iloc[1,1], ballDistP5.iloc[3,1], ballDistP5.iloc[5,1], ballDistP5.iloc[7,1], ballDistP5.iloc[9,1], ballDistP5.iloc[11,1])\n",
    "ballDistP6R = (ballDistP6.iloc[1,1], ballDistP6.iloc[3,1], ballDistP6.iloc[5,1], ballDistP6.iloc[7,1], ballDistP6.iloc[9,1], ballDistP6.iloc[11,1])\n",
    "ballDistP7R = (ballDistP7.iloc[1,1], ballDistP7.iloc[3,1], ballDistP7.iloc[5,1], ballDistP7.iloc[7,1], ballDistP7.iloc[9,1], ballDistP7.iloc[11,1])\n",
    "ballDistP8R = (ballDistP8.iloc[1,1], ballDistP8.iloc[3,1], ballDistP8.iloc[5,1], ballDistP8.iloc[7,1], ballDistP8.iloc[9,1], ballDistP8.iloc[11,1])\n",
    "ballDistP9R = (ballDistP9.iloc[1,1], ballDistP9.iloc[3,1], ballDistP9.iloc[5,1], ballDistP9.iloc[7,1], ballDistP9.iloc[9,1], ballDistP9.iloc[11,1])\n",
    "ballDistP10R = (ballDistP10.iloc[1,1], ballDistP10.iloc[3,1], ballDistP10.iloc[5,1], ballDistP10.iloc[7,1], ballDistP10.iloc[9,1], ballDistP10.iloc[11,1])"
   ]
  },
  {
   "cell_type": "code",
   "execution_count": null,
   "metadata": {},
   "outputs": [],
   "source": [
    "ballDistStdP1L = (ballDistStdP1.iloc[0,1], ballDistStdP1.iloc[2,1], ballDistStdP1.iloc[4,1], ballDistStdP1.iloc[6,1], ballDistStdP1.iloc[8,1], ballDistStdP1.iloc[10,1])\n",
    "ballDistStdP2L = (ballDistStdP2.iloc[0,1], ballDistStdP2.iloc[2,1], ballDistStdP2.iloc[4,1], ballDistStdP2.iloc[6,1], ballDistStdP2.iloc[8,1], ballDistStdP2.iloc[10,1])\n",
    "ballDistStdP3L = (ballDistStdP3.iloc[0,1], ballDistStdP3.iloc[2,1], ballDistStdP3.iloc[4,1], ballDistStdP3.iloc[6,1], ballDistStdP3.iloc[8,1], ballDistStdP3.iloc[10,1])\n",
    "ballDistStdP4L = (ballDistStdP4.iloc[0,1], ballDistStdP4.iloc[2,1], ballDistStdP4.iloc[4,1], ballDistStdP4.iloc[6,1], ballDistStdP4.iloc[8,1], ballDistStdP4.iloc[10,1])\n",
    "ballDistStdP5L = (ballDistStdP5.iloc[0,1], ballDistStdP5.iloc[2,1], ballDistStdP5.iloc[4,1], ballDistStdP5.iloc[6,1], ballDistStdP5.iloc[8,1], ballDistStdP5.iloc[10,1])\n",
    "ballDistStdP6L = (ballDistStdP6.iloc[0,1], ballDistStdP6.iloc[2,1], ballDistStdP6.iloc[4,1], ballDistStdP6.iloc[6,1], ballDistStdP6.iloc[8,1], ballDistStdP6.iloc[10,1])\n",
    "ballDistStdP7L = (ballDistStdP7.iloc[0,1], ballDistStdP7.iloc[2,1], ballDistStdP7.iloc[4,1], ballDistStdP7.iloc[6,1], ballDistStdP7.iloc[8,1], ballDistStdP7.iloc[10,1])\n",
    "ballDistStdP8L = (ballDistStdP8.iloc[0,1], ballDistStdP8.iloc[2,1], ballDistStdP8.iloc[4,1], ballDistStdP8.iloc[6,1], ballDistStdP8.iloc[8,1], ballDistStdP8.iloc[10,1])\n",
    "ballDistStdP9L = (ballDistStdP9.iloc[0,1], ballDistStdP9.iloc[2,1], ballDistStdP9.iloc[4,1], ballDistStdP9.iloc[6,1], ballDistStdP9.iloc[8,1], ballDistStdP9.iloc[10,1])\n",
    "ballDistStdP10L = (ballDistStdP10.iloc[0,1], ballDistStdP10.iloc[2,1], ballDistStdP10.iloc[4,1], ballDistStdP10.iloc[6,1], ballDistStdP10.iloc[8,1], ballDistStdP10.iloc[10,1])"
   ]
  },
  {
   "cell_type": "code",
   "execution_count": null,
   "metadata": {},
   "outputs": [],
   "source": [
    "ballDistStdP1R = (ballDistStdP1.iloc[1,1], ballDistStdP1.iloc[3,1], ballDistStdP1.iloc[5,1], ballDistStdP1.iloc[7,1], ballDistStdP1.iloc[9,1], ballDistStdP1.iloc[11,1])\n",
    "ballDistStdP2R = (ballDistStdP1.iloc[1,1], ballDistStdP1.iloc[3,1], ballDistStdP1.iloc[5,1], ballDistStdP1.iloc[7,1], ballDistStdP1.iloc[9,1], ballDistStdP1.iloc[11,1])\n",
    "ballDistStdP3R = (ballDistStdP3.iloc[1,1], ballDistStdP3.iloc[3,1], ballDistStdP3.iloc[5,1], ballDistStdP3.iloc[7,1], ballDistStdP3.iloc[9,1], ballDistStdP3.iloc[11,1])\n",
    "ballDistStdP4R = (ballDistStdP4.iloc[1,1], ballDistStdP4.iloc[3,1], ballDistStdP4.iloc[5,1], ballDistStdP4.iloc[7,1], ballDistStdP4.iloc[9,1], ballDistStdP4.iloc[11,1])\n",
    "ballDistStdP5R = (ballDistStdP5.iloc[1,1], ballDistStdP5.iloc[3,1], ballDistStdP5.iloc[5,1], ballDistStdP5.iloc[7,1], ballDistStdP5.iloc[9,1], ballDistStdP5.iloc[11,1])\n",
    "ballDistStdP6R = (ballDistStdP6.iloc[1,1], ballDistStdP6.iloc[3,1], ballDistStdP6.iloc[5,1], ballDistStdP6.iloc[7,1], ballDistStdP6.iloc[9,1], ballDistStdP6.iloc[11,1])\n",
    "ballDistStdP7R = (ballDistStdP7.iloc[1,1], ballDistStdP7.iloc[3,1], ballDistStdP7.iloc[5,1], ballDistStdP7.iloc[7,1], ballDistStdP7.iloc[9,1], ballDistStdP7.iloc[11,1])\n",
    "ballDistStdP8R = (ballDistStdP8.iloc[1,1], ballDistStdP8.iloc[3,1], ballDistStdP8.iloc[5,1], ballDistStdP8.iloc[7,1], ballDistStdP8.iloc[9,1], ballDistStdP8.iloc[11,1])\n",
    "ballDistStdP9R = (ballDistStdP9.iloc[1,1], ballDistStdP9.iloc[3,1], ballDistStdP9.iloc[5,1], ballDistStdP9.iloc[7,1], ballDistStdP9.iloc[9,1], ballDistStdP9.iloc[11,1])\n",
    "ballDistStdP10R = (ballDistStdP10.iloc[1,1], ballDistStdP10.iloc[3,1], ballDistStdP10.iloc[5,1], ballDistStdP10.iloc[7,1], ballDistStdP10.iloc[9,1], ballDistStdP10.iloc[11,1])"
   ]
  },
  {
   "cell_type": "code",
   "execution_count": null,
   "metadata": {},
   "outputs": [],
   "source": [
    "def invertAxis(ballDistances):\n",
    "    ballDistances = list(ballDistances)\n",
    "    for i in range(len(ballDistances)):\n",
    "        ballDistances[i] = ballDistances[i] *- 1\n",
    "    return ballDistances"
   ]
  },
  {
   "cell_type": "code",
   "execution_count": null,
   "metadata": {},
   "outputs": [],
   "source": [
    "ballDistP6L = invertAxis(ballDistP6L)\n",
    "ballDistP7L = invertAxis(ballDistP7L)\n",
    "ballDistP8L = invertAxis(ballDistP8L)\n",
    "ballDistP9L = invertAxis(ballDistP9L)\n",
    "ballDistP10L = invertAxis(ballDistP10L)"
   ]
  },
  {
   "cell_type": "code",
   "execution_count": null,
   "metadata": {},
   "outputs": [],
   "source": [
    "ballDistP1R = invertAxis(ballDistP1R)\n",
    "ballDistP2R = invertAxis(ballDistP2R)\n",
    "ballDistP3R = invertAxis(ballDistP3R)\n",
    "ballDistP4R = invertAxis(ballDistP4R)\n",
    "ballDistP5R = invertAxis(ballDistP5R)"
   ]
  },
  {
   "cell_type": "code",
   "execution_count": null,
   "metadata": {},
   "outputs": [],
   "source": [
    "ballDistanceConditions = np.repeat(np.array([12.5, 15, 17.5, 20, 22.5, 25]),10)"
   ]
  },
  {
   "cell_type": "code",
   "execution_count": null,
   "metadata": {},
   "outputs": [],
   "source": [
    "allBallDistancesLeft = np.array([ballDistP1L, ballDistP2L, ballDistP3L, ballDistP4L, ballDistP5L, ballDistP6L, ballDistP8L, ballDistP9L, ballDistP10L])\n",
    "\n",
    "allBallDistancesLeft = flattenList(allBallDistancesLeft)"
   ]
  },
  {
   "cell_type": "code",
   "execution_count": null,
   "metadata": {},
   "outputs": [],
   "source": [
    "allBallDistancesRight = np.array([ballDistP1R, ballDistP2R, ballDistP3R, ballDistP4R, ballDistP5R, ballDistP6R, ballDistP8R, ballDistP9R, ballDistP10R])\n",
    "\n",
    "allBallDistancesRight = flattenList(allBallDistancesRight)"
   ]
  },
  {
   "cell_type": "code",
   "execution_count": null,
   "metadata": {},
   "outputs": [],
   "source": [
    "allBallDistanceStdsRight = np.array([ballDistStdP1R, ballDistStdP2R, ballDistStdP3R, ballDistStdP4R, ballDistStdP5R, ballDistStdP6R, ballDistStdP8R, ballDistStdP9R, ballDistStdP10R])\n",
    "\n",
    "allBallDistanceStdsRight = flattenList(allBallDistanceStdsRight)"
   ]
  },
  {
   "cell_type": "code",
   "execution_count": null,
   "metadata": {},
   "outputs": [],
   "source": [
    "allBallDistanceStdsLeft = np.array([ballDistStdP1L, ballDistStdP2L, ballDistStdP3L, ballDistStdP4L, ballDistStdP5L, ballDistStdP6L, ballDistStdP8L, ballDistStdP9L, ballDistStdP10L])\n",
    "\n",
    "allBallDistanceStdsLeft = flattenList(allBallDistanceStdsLeft)"
   ]
  },
  {
   "cell_type": "code",
   "execution_count": null,
   "metadata": {},
   "outputs": [],
   "source": [
    "GroupMeanBallDistancesLeft = groupMeanSuccesses(np.asarray(ballDistP1L), np.asarray(ballDistP2L), np.asarray(ballDistP3L), np.asarray(ballDistP4L), np.asarray(ballDistP5L), np.asarray(ballDistP6L), np.asarray(ballDistP8L), np.asarray(ballDistP9L),np.asarray(ballDistP10L))"
   ]
  },
  {
   "cell_type": "code",
   "execution_count": null,
   "metadata": {},
   "outputs": [],
   "source": [
    "GroupMeanBallDistancesRight = groupMeanSuccesses(np.asarray(ballDistP1R), np.asarray(ballDistP2R), np.asarray(ballDistP3R), np.asarray(ballDistP4R), np.asarray(ballDistP5R), np.asarray(ballDistP6R), np.asarray(ballDistP8R), np.asarray(ballDistP9R), np.asarray(ballDistP10R))"
   ]
  },
  {
   "cell_type": "code",
   "execution_count": null,
   "metadata": {},
   "outputs": [],
   "source": [
    "GroupMeanBallDistanceStdsLeft = groupMeanSuccesses(np.asarray(ballDistStdP1L), np.asarray(ballDistStdP2L), np.asarray(ballDistStdP3L), np.asarray(ballDistStdP4L), np.asarray(ballDistStdP5L), np.asarray(ballDistStdP6L), np.asarray(ballDistStdP8L), np.asarray(ballDistStdP9L), np.asarray(ballDistStdP10L))\n",
    "GroupMeanBallDistanceStdsRight = groupMeanSuccesses(np.asarray(ballDistStdP1R), np.asarray(ballDistStdP2R), np.asarray(ballDistStdP3R), np.asarray(ballDistStdP4R), np.asarray(ballDistStdP5R), np.asarray(ballDistStdP6R), np.asarray(ballDistStdP8R), np.asarray(ballDistStdP9R), np.asarray(ballDistStdP10R))"
   ]
  },
  {
   "cell_type": "code",
   "execution_count": null,
   "metadata": {},
   "outputs": [],
   "source": [
    "GroupMeanBallDistancesLeft = roundList(GroupMeanBallDistancesLeft)\n",
    "GroupMeanBallDistancesRight = roundList(GroupMeanBallDistancesRight)\n",
    "GroupMeanBallDistanceStdsLeft = roundList(GroupMeanBallDistanceStdsLeft)\n",
    "GroupMeanBallDistanceStdsRight = roundList(GroupMeanBallDistanceStdsRight)"
   ]
  },
  {
   "cell_type": "code",
   "execution_count": null,
   "metadata": {},
   "outputs": [],
   "source": [
    "\"\"\" fig = go.Figure(data=[go.Table(header=dict(values=['Perturbation Distance (cm)', 'Average Target Movement Left (sec)', 'Standard Deviation Left', 'Average Target Movement Right (sec)', 'Standard Deviation Right']),\n",
    "                 cells=dict(values=[[ 12.5, 15.0, 17.5, 20.0, 22.5, 25.0], GroupMeanBallDistancesLeft, GroupMeanBallDistanceStdsLeft, GroupMeanBallDistancesRight, GroupMeanBallDistanceStdsRight]))\n",
    "                     ])\n",
    "fig.show()\n",
    "fig.write_image(\"...\")\n",
    "\n",
    " \"\"\""
   ]
  },
  {
   "cell_type": "code",
   "execution_count": null,
   "metadata": {},
   "outputs": [],
   "source": [
    "fig, ax = plt.subplots(nrows=1, ncols=2, sharex=True, sharey=True, figsize=(16, 6))\n",
    "fig.text(0.5, 0.0, 'perturbation distance conditions (cm)', ha='center', fontsize=Parameter['axes.labelsize'])\n",
    "fig.text(0.06, 0.5, 'target movement (m)', va='center', rotation='vertical', fontsize=Parameter['axes.labelsize'])\n",
    "\n",
    "#ax.Axes.set_ylim([0.75,2.25])\n",
    "ax1 = plt.subplot(121)\n",
    "plt.grid(True, linewidth=0.3)\n",
    "#plt.ylim(bottom = 0.20, top = 0.40)\n",
    "#plt.title('Ball Distances Travelled')\n",
    "plt.plot(conditions2, ballDistP1L, 'o', markersize=12, label='P1')\n",
    "plt.plot(conditions2, ballDistP2L, 'o', markersize=12, label='P2')\n",
    "plt.plot(conditions2, ballDistP3L, 'o', markersize=12, label='P3')\n",
    "plt.plot(conditions2, ballDistP4L, 'o', markersize=12, label='P4')\n",
    "plt.plot(conditions2, ballDistP5L, 'o', markersize=12, label='P5')\n",
    "plt.plot(conditions2, ballDistP6L, 'o', markersize=12, label='P6')\n",
    "plt.plot(conditions2, ballDistP7L, 'o', markersize=12, label='P7')\n",
    "plt.plot(conditions2, ballDistP8L, 'o', markersize=12, label='P8')\n",
    "plt.plot(conditions2, ballDistP9L, 'o', markersize=12, label='P9')\n",
    "plt.plot(conditions2, ballDistP10L, 'o', markersize=12, label='P10')\n",
    "plt.plot(np.unique(ballDistanceConditions), np.poly1d(np.polyfit(ballDistanceConditions, allBallDistancesLeft, 1))(np.unique(ballDistanceConditions)), color='blue', linestyle='-')\n",
    "\n",
    "plt.xticks([12.5, 15, 17.5, 20, 22.5, 25])\n",
    "\n",
    "ax2 = plt.subplot(122)\n",
    "plt.grid(True, linewidth=0.3)\n",
    "\n",
    "plt.plot(conditions2, ballDistP1R, 'o', markersize=12)\n",
    "plt.plot(conditions2, ballDistP2R, 'o', markersize=12)\n",
    "plt.plot(conditions2, ballDistP3R, 'o', markersize=12)\n",
    "plt.plot(conditions2, ballDistP4R, 'o', markersize=12)\n",
    "plt.plot(conditions2, ballDistP5R, 'o', markersize=12)\n",
    "plt.plot(conditions2, ballDistP6R, 'o', markersize=12)\n",
    "plt.plot(conditions2, ballDistP7R, 'o', markersize=12)\n",
    "plt.plot(conditions2, ballDistP8R, 'o', markersize=12)\n",
    "plt.plot(conditions2, ballDistP9R, 'o', markersize=12)\n",
    "plt.plot(conditions2, ballDistP10R, 'o', markersize=12)\n",
    "plt.plot(np.unique(ballDistanceConditions), np.poly1d(np.polyfit(ballDistanceConditions, allBallDistancesRight, 1))(np.unique(ballDistanceConditions)), color='blue', linestyle='-')\n",
    "\n",
    "fig.legend(loc='lower center', bbox_to_anchor=(0.51, 0.25))\n",
    "plt.savefig('...')\n",
    "\n"
   ]
  },
  {
   "cell_type": "code",
   "execution_count": null,
   "metadata": {},
   "outputs": [],
   "source": [
    "fig, ax = plt.subplots(nrows=1, ncols=2, sharex=True, sharey=True, figsize=(16, 6))\n",
    "fig.text(0.5, 0.0, 'perturbation distance conditions (cm)', ha='center', fontsize=Parameter['axes.labelsize'])\n",
    "fig.text(0.06, 0.5, 'target movement std. (m)', va='center', rotation='vertical', fontsize=Parameter['axes.labelsize'])\n",
    "\n",
    "#ax.Axes.set_ylim([0.75,2.25])\n",
    "#plt.grid(True, linewidth=0.3)#\n",
    "ax1 = plt.subplot(121)\n",
    "\n",
    "plt.grid(True, linewidth=0.3)\n",
    "#plt.ylim(bottom = 0.20, top = 0.40)\n",
    "#plt.title('Ball Distances Travelled')\n",
    "plt.plot(conditions2, ballDistStdP1L, 'o', markersize=12, label='P1')\n",
    "plt.plot(conditions2, ballDistStdP2L, 'o', markersize=12, label='P2')\n",
    "plt.plot(conditions2, ballDistStdP3L, 'o', markersize=12, label='P3')\n",
    "plt.plot(conditions2, ballDistStdP4L, 'o', markersize=12, label='P4')\n",
    "plt.plot(conditions2, ballDistStdP5L, 'o', markersize=12, label='P5')\n",
    "plt.plot(conditions2, ballDistStdP6L, 'o', markersize=12, label='P6')\n",
    "plt.plot(conditions2, ballDistStdP7L, 'o', markersize=12, label='P7')\n",
    "plt.plot(conditions2, ballDistStdP8L, 'o', markersize=12, label='P8')\n",
    "plt.plot(conditions2, ballDistStdP9L, 'o', markersize=12, label='P9')\n",
    "plt.plot(conditions2, ballDistStdP10L, 'o', markersize=12, label='P10')\n",
    "plt.plot(np.unique(ballDistanceConditions), np.poly1d(np.polyfit(ballDistanceConditions, allBallDistanceStdsLeft, 1))(np.unique(ballDistanceConditions)), color='blue', linestyle='-')\n",
    "\n",
    "plt.xticks([12.5, 15, 17.5, 20, 22.5, 25])\n",
    "\n",
    "ax2 = plt.subplot(122)\n",
    "plt.grid(True, linewidth=0.3)\n",
    "\n",
    "plt.plot(conditions2, ballDistStdP1R, 'o', markersize=12)\n",
    "plt.plot(conditions2, ballDistStdP2R, 'o', markersize=12)\n",
    "plt.plot(conditions2, ballDistStdP3R, 'o', markersize=12)\n",
    "plt.plot(conditions2, ballDistStdP4R, 'o', markersize=12)\n",
    "plt.plot(conditions2, ballDistStdP5R, 'o', markersize=12)\n",
    "plt.plot(conditions2, ballDistStdP6R, 'o', markersize=12)\n",
    "plt.plot(conditions2, ballDistStdP7R, 'o', markersize=12)\n",
    "plt.plot(conditions2, ballDistStdP8R, 'o', markersize=12)\n",
    "plt.plot(conditions2, ballDistStdP9R, 'o', markersize=12)\n",
    "plt.plot(conditions2, ballDistStdP10R, 'o', markersize=12)\n",
    "plt.plot(np.unique(ballDistanceConditions), np.poly1d(np.polyfit(ballDistanceConditions, allBallDistanceStdsRight, 1))(np.unique(ballDistanceConditions)), color='blue', linestyle='-')\n",
    "\n",
    "fig.legend(loc='lower center', bbox_to_anchor=(0.51, 0.25))\n",
    "plt.savefig('...')\n",
    "\n"
   ]
  }
 ],
 "metadata": {
  "interpreter": {
   "hash": "c6e4e9f98eb68ad3b7c296f83d20e6de614cb42e90992a65aa266555a3137d0d"
  },
  "kernelspec": {
   "display_name": "Python 3.9.7",
   "language": "python",
   "name": "python3"
  },
  "language_info": {
   "codemirror_mode": {
    "name": "ipython",
    "version": 3
   },
   "file_extension": ".py",
   "mimetype": "text/x-python",
   "name": "python",
   "nbconvert_exporter": "python",
   "pygments_lexer": "ipython3",
   "version": "3.9.7"
  },
  "orig_nbformat": 4
 },
 "nbformat": 4,
 "nbformat_minor": 2
}
